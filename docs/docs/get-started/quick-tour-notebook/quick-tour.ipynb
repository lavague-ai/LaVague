{
 "cells": [
  {
   "cell_type": "markdown",
   "metadata": {
    "id": "57cUBU_kW8YI"
   },
   "source": [
    "# Quick Tour\n",
    "\n",
    "<a target=\"_blank\" href=\"https://colab.research.google.com/github/lavague-ai/LaVague/blob/main/docs/docs/get-started/quick-tour-notebook/quick-tour.ipynb\">\n",
    "<img src=\"https://colab.research.google.com/assets/colab-badge.svg\" alt=\"Open In Colab\"></a>"
   ]
  },
  {
   "cell_type": "markdown",
   "metadata": {
    "id": "RBcpVSR6fwT-"
   },
   "source": [
    "## Pre-requisites\n",
    "\n",
    "**Note**: We use OpenAI's models, for the embedding, LLM and Vision model. You will need to set the OPENAI_API_KEY variable in your local environment with a valid API key for this example to work.\n",
    "\n",
    "If you don't have an OpenAI API key, please get one here: https://platform.openai.com/docs/quickstart/developer-quickstart"
   ]
  },
  {
   "cell_type": "markdown",
   "metadata": {
    "id": "rAFBONJcd8mI"
   },
   "source": [
    "# Installation\n",
    "\n",
    "We start by download LaVague."
   ]
  },
  {
   "cell_type": "code",
   "execution_count": null,
   "metadata": {
    "colab": {
     "base_uri": "https://localhost:8080/"
    },
    "id": "E6TVyo2uGrJq",
    "outputId": "0dc5d558-2603-4ac1-8338-6b48ca306045"
   },
   "outputs": [],
   "source": [
    "!pip install lavague"
   ]
  },
  {
   "cell_type": "markdown",
   "metadata": {},
   "source": [
    "We will need to set our OpenAI Key as a Colab secret (see the key icon on the left-hand side of the Colab notebook) named 'OPENAI_API_KEY' and then convert it to an environment variable with the same name."
   ]
  },
  {
   "cell_type": "code",
   "execution_count": null,
   "metadata": {
    "id": "szM8iq3LINtq"
   },
   "outputs": [],
   "source": [
    "import os\n",
    "\n",
    "# Check if running in Google Colab\n",
    "try:\n",
    "    from google.colab import userdata\n",
    "    IN_COLAB = True\n",
    "except ImportError:\n",
    "    IN_COLAB = False\n",
    "\n",
    "if IN_COLAB:\n",
    "    os.environ[\"OPENAI_API_KEY\"] = userdata.get('OPENAI_API_KEY')\n",
    "else:\n",
    "    os.environ[\"OPENAI_API_KEY\"] = os.getenv('OPENAI_API_KEY')"
   ]
  },
  {
   "cell_type": "markdown",
   "metadata": {
    "id": "GhHF9m4zd8mJ"
   },
   "source": [
    "## ActionEngine\n",
    "\n",
    "**An WebAgent is made up of two components: an `ActionEngine` and a `WorldModel`.**\n",
    "\n",
    "Let's start by initializing an `ActionEngine`, which is responsible for generating automation code for text instructions and executing them."
   ]
  },
  {
   "cell_type": "code",
   "execution_count": null,
   "metadata": {
    "id": "V1sWzXVMd8mJ"
   },
   "outputs": [],
   "source": [
    "from lavague.core import ActionEngine\n",
    "from lavague.drivers.selenium import SeleniumDriver\n",
    "\n",
    "selenium_driver = SeleniumDriver()\n",
    "action_engine = ActionEngine(selenium_driver)"
   ]
  },
  {
   "cell_type": "markdown",
   "metadata": {
    "id": "s173cCGjd8mK"
   },
   "source": [
    "# World model\n",
    "\n",
    "Next, we will initialize our `WorldModel`, providing it with examples of global objectives for actions and the desired thought process and reasoning we wish it to replicate to generate the next instruction that needs to be passed to the `ActionEngine`."
   ]
  },
  {
   "cell_type": "code",
   "execution_count": null,
   "metadata": {
    "id": "obgdqBPyd8mM"
   },
   "outputs": [],
   "source": [
    "from lavague.core import WorldModel\n",
    "\n",
    "world_model = WorldModel()"
   ]
  },
  {
   "cell_type": "markdown",
   "metadata": {
    "id": "umuDUrJNbsGe"
   },
   "source": [
    "# WebAgent Demo"
   ]
  },
  {
   "cell_type": "markdown",
   "metadata": {
    "id": "3M6DerDyd8mM"
   },
   "source": [
    "We can now use these two elements to initialize a `WebAgent` and start playing with it!\n",
    "\n",
    "In the following example, we show how our agent can achieve a user-defined goal, here going on the quicktour of Hugging Face's PEFT framework for model finetuning."
   ]
  },
  {
   "cell_type": "code",
   "execution_count": null,
   "metadata": {
    "colab": {
     "base_uri": "https://localhost:8080/",
     "height": 1000
    },
    "id": "6ckkvh1BF19J",
    "outputId": "95afb47d-1977-48ea-a9c2-15ce9ea783df"
   },
   "outputs": [],
   "source": [
    "from lavague.core.agents import WebAgent\n",
    "\n",
    "agent = WebAgent(world_model, action_engine)\n",
    "\n",
    "agent.get(\"https://huggingface.co/docs\")\n",
    "agent.run(\"Go on the quicktour of PEFT\", display=True)"
   ]
  },
  {
   "cell_type": "markdown",
   "metadata": {},
   "source": [
    "### Interactive demo mode\n",
    "\n",
    "You can also launch an interactive Gradio interface for using the agent with the `agent.demo()` method."
   ]
  },
  {
   "cell_type": "code",
   "execution_count": null,
   "metadata": {},
   "outputs": [],
   "source": [
    "from lavague.core.agents import WebAgent\n",
    "\n",
    "# We should set no_load_strategy to True when using the demo() method\n",
    "driver = SeleniumDriver(headless=True, no_load_strategy=True)\n",
    "action_engine = ActionEngine(driver)\n",
    "world_model = WorldModel()\n",
    "\n",
    "# Create Web Agent\n",
    "agent = WebAgent(world_model, action_engine)\n",
    "\n",
    "# Set URL\n",
    "agent.get(\"https://huggingface.co/docs\")\n",
    "\n",
    "# Launch the agent in the Agent Gradio Demo mode\n",
    "agent.demo(\"Go on the quicktour of PEFT\")"
   ]
  }
 ],
 "metadata": {
  "colab": {
   "machine_shape": "hm",
   "provenance": []
  },
  "kernelspec": {
   "display_name": "Python 3 (ipykernel)",
   "language": "python",
   "name": "python3"
  },
  "language_info": {
   "codemirror_mode": {
    "name": "ipython",
    "version": 3
   },
   "file_extension": ".py",
   "mimetype": "text/x-python",
   "name": "python",
   "nbconvert_exporter": "python",
   "pygments_lexer": "ipython3",
   "version": "3.10.14"
  }
 },
 "nbformat": 4,
 "nbformat_minor": 4
}
