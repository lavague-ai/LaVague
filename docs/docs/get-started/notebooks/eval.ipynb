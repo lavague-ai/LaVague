{
  "cells": [
    {
      "cell_type": "code",
      "execution_count": null,
      "metadata": {
        "id": "hIN418YWvtxf"
      },
      "outputs": [],
      "source": [
        "!pip install lavague"
      ]
    },
    {
      "cell_type": "code",
      "execution_count": 2,
      "metadata": {
        "id": "72r07flrv3lN"
      },
      "outputs": [],
      "source": [
        "import os\n",
        "\n",
        "# Check if running in Google Colab\n",
        "try:\n",
        "    from google.colab import userdata\n",
        "    IN_COLAB = True\n",
        "except ImportError:\n",
        "    IN_COLAB = False\n",
        "\n",
        "if IN_COLAB:\n",
        "    os.environ[\"OPENAI_API_KEY\"] = userdata.get('OPENAI_API_KEY')\n",
        "else:\n",
        "    os.environ[\"OPENAI_API_KEY\"] = os.getenv('OPENAI_API_KEY')"
      ]
    },
    {
      "cell_type": "code",
      "execution_count": 6,
      "metadata": {
        "id": "IKxMIpegvrWk"
      },
      "outputs": [],
      "source": [
        "from lavague.core.evaluator import RetrieverEvaluator\n",
        "\n",
        "retriever_evaluator = RetrieverEvaluator()"
      ]
    },
    {
      "cell_type": "code",
      "execution_count": 8,
      "metadata": {
        "colab": {
          "base_uri": "https://localhost:8080/"
        },
        "id": "e1pI4g0mvrWo",
        "outputId": "6e500386-4412-4050-8a69-553a8b079f16"
      },
      "outputs": [
        {
          "name": "stdout",
          "output_type": "stream",
          "text": [
            "--2024-06-17 08:32:19--  https://raw.githubusercontent.com/lavague-ai/LaVague/main/examples/TheWaveMetaSmall.csv\n",
            "Resolving raw.githubusercontent.com (raw.githubusercontent.com)... 185.199.111.133, 185.199.109.133, 185.199.110.133, ...\n",
            "Connecting to raw.githubusercontent.com (raw.githubusercontent.com)|185.199.111.133|:443... connected.\n",
            "HTTP request sent, awaiting response... 200 OK\n",
            "Length: 4194765 (4.0M) [text/plain]\n",
            "Saving to: ‘TheWaveMetaSmall.csv’\n",
            "\n",
            "\rTheWaveMetaSmall.cs   0%[                    ]       0  --.-KB/s               \rTheWaveMetaSmall.cs 100%[===================>]   4.00M  --.-KB/s    in 0.08s   \n",
            "\n",
            "2024-06-17 08:32:20 (52.1 MB/s) - ‘TheWaveMetaSmall.csv’ saved [4194765/4194765]\n",
            "\n"
          ]
        },
        {
          "name": "stderr",
          "output_type": "stream",
          "text": [
            "5it [00:04,  1.16it/s]\n"
          ]
        }
      ],
      "source": [
        "import pandas as pd\n",
        "import os\n",
        "\n",
        "!wget https://raw.githubusercontent.com/lavague-ai/LaVague/main/examples/TheWaveMetaSmall.csv\n",
        "\n",
        "raw_dataset = pd.read_csv(\"TheWaveMetaSmall.csv\")"
      ]
    },
    {
      "cell_type": "code",
      "execution_count": 10,
      "metadata": {
        "colab": {
          "base_uri": "https://localhost:8080/"
        },
        "id": "2N0s80k2vrWp",
        "outputId": "6f30394b-8cbc-45bf-e95b-1c9773ae7ece"
      },
      "outputs": [
        {
          "name": "stderr",
          "output_type": "stream",
          "text": [
            "5it [00:43,  8.70s/it]\n",
            "5it [00:09,  1.88s/it]\n"
          ]
        }
      ],
      "source": [
        "from lavague.core.retrievers import OpsmSplitRetriever, BM25HtmlRetriever\n",
        "from lavague.drivers.selenium import SeleniumDriver\n",
        "\n",
        "driver = SeleniumDriver()\n",
        "\n",
        "# tests all = 5 rows\n",
        "retrieved_data_opsm = retriever_evaluator.evaluate(\n",
        "    OpsmSplitRetriever(driver), raw_dataset, \"retrieved_data_opsm.csv\"\n",
        ")\n",
        "retrieved_data_bm25 = retriever_evaluator.evaluate(\n",
        "    BM25HtmlRetriever(), raw_dataset, \"retrieved_data_bm25.csv\"\n",
        ")"
      ]
    },
    {
      "cell_type": "code",
      "execution_count": 11,
      "metadata": {
        "colab": {
          "base_uri": "https://localhost:8080/",
          "height": 445
        },
        "id": "EqrWbL63vrWs",
        "outputId": "cda79412-984e-47e1-e123-5a0e371ba864"
      },
      "outputs": [
        {
          "data": {
            "image/png": "[encoded data removed]",
            "text/plain": [
              "<Figure size 1500x500 with 3 Axes>"
            ]
          },
          "metadata": {},
          "output_type": "display_data"
        }
      ],
      "source": [
        "# with as many df as you want\n",
        "plot = retriever_evaluator.compare(\n",
        "    {\"opsm\": retrieved_data_opsm, \"bm25\": retrieved_data_bm25}\n",
        ")\n",
        "\n",
        "# pass arguments with matplotlib\n",
        "plot.show()"
      ]
    },
    {
      "cell_type": "code",
      "execution_count": 8,
      "metadata": {
        "colab": {
          "base_uri": "https://localhost:8080/"
        },
        "id": "ARM-jufT4CYz",
        "outputId": "f7caf01b-9893-48bb-ebb9-f0ad9526d10f"
      },
      "outputs": [
        {
          "name": "stdout",
          "output_type": "stream",
          "text": [
            " Opsm: average precision: 0.034383264352549125\n",
            " Opsm: average recall: 0.6\n",
            " BM2: average precision: 0.0\n",
            " BM25: average recall: 0.0\n"
          ]
        }
      ],
      "source": [
        "print(f' Opsm: average precision: {retrieved_data_opsm[\"precision_retriever\"].mean(axis=0)}')\n",
        "print(f' Opsm: average recall: {retrieved_data_opsm[\"recall_retriever\"].mean(axis=0)}')\n",
        "print(f' BM2: average precision: {retrieved_data_bm25[\"precision_retriever\"].mean(axis=0)}')\n",
        "print(f' BM25: average recall: {retrieved_data_bm25[\"recall_retriever\"].mean(axis=0)}')\n"
      ]
    },
    {
      "cell_type": "code",
      "execution_count": 4,
      "metadata": {
        "id": "V7ZoREwi3kwW"
      },
      "outputs": [],
      "source": [
        "import os\n",
        "\n",
        "# Check if running in Google Colab\n",
        "try:\n",
        "    from google.colab import userdata\n",
        "    IN_COLAB = True\n",
        "except ImportError:\n",
        "    IN_COLAB = False\n",
        "\n",
        "if IN_COLAB:\n",
        "    os.environ[\"GOOGLE_API_KEY\"] = userdata.get('GOOGLE_API_KEY')\n",
        "else:\n",
        "    os.environ[\"GOOGLE_API_KEY\"] = os.getenv('GOOGLE_API_KEY')"
      ]
    },
    {
      "cell_type": "code",
      "execution_count": null,
      "metadata": {
        "id": "yzmHLTVV3uAS"
      },
      "outputs": [],
      "source": [
        "!pip install lavague-contexts-gemini"
      ]
    },
    {
      "cell_type": "code",
      "execution_count": 12,
      "metadata": {
        "colab": {
          "base_uri": "https://localhost:8080/",
          "height": 52
        },
        "id": "MmJDn9V2vrWu",
        "outputId": "2f71642b-5c75-4556-d721-7562bb9730eb"
      },
      "outputs": [
        {
          "name": "stderr",
          "output_type": "stream",
          "text": [
            "5it [00:26,  5.26s/it]\n",
            "5it [00:27,  5.45s/it]\n"
          ]
        }
      ],
      "source": [
        "from lavague.core.evaluator import LLMEvaluator\n",
        "from lavague.contexts.openai import OpenaiContext\n",
        "from lavague.contexts.gemini import GeminiContext\n",
        "from lavague.core.navigation import NavigationEngine\n",
        "import os\n",
        "from lavague.drivers.selenium import SeleniumDriver\n",
        "\n",
        "llm_evaluator = LLMEvaluator()\n",
        "openai_engine = NavigationEngine.from_context(OpenaiContext(), SeleniumDriver())\n",
        "gemini_engine = NavigationEngine.from_context(GeminiContext(), SeleniumDriver())\n",
        "openai_results = llm_evaluator.evaluate(openai_engine, retrieved_data_opsm, \"openai_results.csv\")\n",
        "gemini_results = llm_evaluator.evaluate(gemini_engine, retrieved_data_opsm, \"gemini_results.csv\")"
      ]
    },
    {
      "cell_type": "code",
      "execution_count": 13,
      "metadata": {
        "colab": {
          "base_uri": "https://localhost:8080/",
          "height": 445
        },
        "id": "UTf0vfSJvrWv",
        "outputId": "48baeb19-cef9-48bf-ca24-10d5779fdc88"
      },
      "outputs": [
        {
          "data": {
            "image/png": "[encoded data removed]",
            "text/plain": [
              "<Figure size 1500x500 with 3 Axes>"
            ]
          },
          "metadata": {},
          "output_type": "display_data"
        }
      ],
      "source": [
        "plot = llm_evaluator.compare(\n",
        "    {\n",
        "        \"openai\": openai_results,\n",
        "        \"gemini\": gemini_results,\n",
        "    }\n",
        ")\n",
        "plot.show()"
      ]
    }
  ],
  "metadata": {
    "colab": {
      "provenance": []
    },
    "kernelspec": {
      "display_name": "lavague-F71CZHNi-py3.10",
      "language": "python",
      "name": "python3"
    },
    "language_info": {
      "codemirror_mode": {
        "name": "ipython",
        "version": 3
      },
      "file_extension": ".py",
      "mimetype": "text/x-python",
      "name": "python",
      "nbconvert_exporter": "python",
      "pygments_lexer": "ipython3",
      "version": "3.10.12"
    }
  },
  "nbformat": 4,
  "nbformat_minor": 0
}
