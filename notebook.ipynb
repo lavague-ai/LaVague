{
 "cells": [
  {
   "cell_type": "code",
   "execution_count": 6,
   "metadata": {},
   "outputs": [],
   "source": [
    "from PIL import Image\n",
    "from abc import ABC, abstractmethod\n",
    "from typing import TypeVar, Generic, Any, Dict, Type, Optional\n",
    "from pydantic import BaseModel\n",
    "from pydantic_core import from_json\n",
    "\n",
    "T = TypeVar(\"T\")\n",
    "\n",
    "\n",
    "class BaseAction(BaseModel, ABC, Generic[T]):\n",
    "    \"\"\"Action performed by the agent.\"\"\"\n",
    "\n",
    "    preaction_screenshot: Optional[str] = None\n",
    "    postaction_screenshot: Optional[str] = None\n",
    "\n",
    "    @property\n",
    "    @abstractmethod\n",
    "    def engine() -> str:\n",
    "        pass\n",
    "\n",
    "    @property\n",
    "    @abstractmethod\n",
    "    def args() -> T:\n",
    "        pass\n",
    "\n",
    "\n",
    "class Action(BaseAction[Any]):\n",
    "    pass\n",
    "\n",
    "\n",
    "class ActionParser(BaseModel):\n",
    "    engines: Dict[str, Type[BaseAction]] = {}\n",
    "\n",
    "    def add_engine(self, engine: str, action: Type[BaseAction]):\n",
    "        self.engines[engine] = action\n",
    "\n",
    "    def remove_engine(self, engine: str):\n",
    "        if engine in self.engines:\n",
    "            del self.engines[engine]\n",
    "\n",
    "    def parse(self, action_json: str | bytes | bytearray) -> BaseAction:\n",
    "        data = from_json(action_json)\n",
    "        engine = data.get(\"engine\")\n",
    "\n",
    "        return self.engines.get(engine, Action)(**data)\n",
    "\n",
    "\n",
    "DEFAULT_PARSER = ActionParser()"
   ]
  }
 ],
 "metadata": {
  "kernelspec": {
   "display_name": "lavague-Y10yuNgR-py3.12",
   "language": "python",
   "name": "python3"
  },
  "language_info": {
   "codemirror_mode": {
    "name": "ipython",
    "version": 3
   },
   "file_extension": ".py",
   "mimetype": "text/x-python",
   "name": "python",
   "nbconvert_exporter": "python",
   "pygments_lexer": "ipython3",
   "version": "3.12.5"
  }
 },
 "nbformat": 4,
 "nbformat_minor": 2
}
