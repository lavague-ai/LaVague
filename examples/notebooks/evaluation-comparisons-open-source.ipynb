{
  "cells": [
    {
      "cell_type": "markdown",
      "metadata": {
        "id": "YPeU2Sjz9NdU"
      },
      "source": [
        "# Evaluating Open-source vs Closed-source LLMs and embedding models for LaVague"
      ]
    },
    {
      "cell_type": "markdown",
      "metadata": {
        "id": "W_QgQ0t4mL8w"
      },
      "source": [
        "# Set up\n",
        "\n",
        "First of all, we'll need to download all the required packages to run this notebook.\n",
        "\n",
        "\n",
        "### Pre-requisites\n",
        "\n",
        "Note: To run this notebook and evaluate all the models included inthis notebook, you will need the following API keys stored as secrets (see the key in the sidebar) in your Google Colab:\n",
        "\n",
        "    OPENAI_API_KEY\n",
        "    GOOGLE_API_KEY (Gemini API key)\n",
        "    MISTRAL_API_KEY\n",
        "\n"
      ]
    },
    {
      "cell_type": "code",
      "execution_count": null,
      "metadata": {
        "collapsed": true,
        "id": "9ng-H8QBoj98"
      },
      "outputs": [],
      "source": [
        "!pip install lavague datasets llama_index.embeddings.huggingface llama_index.embeddings.gemini llama_index.llms.mistralai lavague-contexts-gemini"
      ]
    },
    {
      "cell_type": "markdown",
      "metadata": {
        "id": "ZDfbdXVH8h2d"
      },
      "source": [
        "Next, we will set our API keys as environment variables within the notebook environment.\n",
        "\n",
        "For Google Colab users, you can set your API keys as secrets by clicking on the key icon in the side menu on the left-hand side."
      ]
    },
    {
      "cell_type": "code",
      "execution_count": 12,
      "metadata": {
        "id": "0kQNBhket3og"
      },
      "outputs": [],
      "source": [
        "import os\n",
        "\n",
        "# Turn off telemetry\n",
        "os.environ['TELEMETRY_VAR'] = \"NONE\"\n",
        "\n",
        "# Check if running in Google Colab and set API keys accordingly\n",
        "try:\n",
        "    from google.colab import userdata\n",
        "    IN_COLAB = True\n",
        "except ImportError:\n",
        "    IN_COLAB = False\n",
        "\n",
        "if IN_COLAB:\n",
        "    os.environ[\"OPENAI_API_KEY\"] = userdata.get('OPENAI_API_KEY')\n",
        "    os.environ[\"MISTRAL_API_KEY\"] = userdata.get(\"MISTRAL_API_KEY\")\n",
        "    os.environ[\"GOOGLE_API_KEY\"] = userdata.get('GOOGLE_API_KEY')\n",
        "else:\n",
        "    os.environ[\"OPENAI_API_KEY\"] = os.getenv('OPENAI_API_KEY')\n",
        "    os.environ[\"MISTRAL_API_KEY\"] = os.getenv('MISTRAL_API_KEY')\n",
        "    os.environ[\"GOOGLE_API_KEY\"] = os.getenv('GOOGLE_API_KEY')"
      ]
    },
    {
      "cell_type": "markdown",
      "metadata": {
        "id": "JPs8M45ymRIR"
      },
      "source": [
        "## Retriever Evaluation\n",
        "\n",
        "Let's start by evaluating the performance of the Retriever when used with three different embedding models, including local open-source and closed-source models.\n",
        "\n",
        "In order to do this, we will download [the relevant dataset from `the-wave-250`](https://huggingface.co/datasets/BigAction/the-wave-250) which we curated for evaluating models used by LaVague.\n",
        "\n",
        "We download `TheWaveMeta.csv` file and store its contents in a Panda's DataFrame.\n",
        "\n",
        "This dataset has 250 rows of data, but we will just use 50 for the purposes of this demo - as running 250 rows will be slower and more costly!\n",
        "\n"
      ]
    },
    {
      "cell_type": "code",
      "execution_count": 8,
      "metadata": {
        "id": "I0wg1r0KtQHW"
      },
      "outputs": [],
      "source": [
        "from datasets import load_dataset\n",
        "import pandas as pd\n",
        "\n",
        "user = \"BigAction\"\n",
        "dataset_name = \"the-wave-250\"\n",
        "file_name = \"TheWaveMeta.csv\"\n",
        "\n",
        "dataset = load_dataset(f\"{user}/{dataset_name}\", data_files=file_name, split=\"train\")\n",
        "\n",
        "n_rows = 50\n",
        "raw_df = pd.DataFrame(dataset)\n",
        "raw_df = raw_df.iloc[:n_rows]"
      ]
    },
    {
      "cell_type": "markdown",
      "metadata": {
        "id": "Fr5Mr6A9AcmK"
      },
      "source": [
        "Now that we have our Panda's DataFrame containing our evaluation dataset, we are ready to start our tests.\n",
        "\n",
        "First of all, we will need to initialize a RetrieverEvaluator object. This object has all the methods we need to conduct our retriever evaluations."
      ]
    },
    {
      "cell_type": "code",
      "execution_count": 12,
      "metadata": {
        "id": "tv_oHtT9o4al"
      },
      "outputs": [],
      "source": [
        "from lavague.core.evaluator import RetrieverEvaluator\n",
        "\n",
        "retriever_evaluator = RetrieverEvaluator()"
      ]
    },
    {
      "cell_type": "markdown",
      "metadata": {
        "id": "FYNGSI1GBBPy"
      },
      "source": [
        "Now we will compare the retriever performance of the following three models:\n",
        "- HuggingFace's local embedding model `BAAI/bge-small-en-v1.5`\n",
        "- OpenAI's `text-embedding-3-small`\n",
        "- Gemini's `text-embedding-004`"
      ]
    },
    {
      "cell_type": "code",
      "execution_count": 14,
      "metadata": {
        "colab": {
          "base_uri": "https://localhost:8080/"
        },
        "id": "bhCk-jTQo_t-",
        "outputId": "52aaefa9-fef1-45ea-abde-103f2d4e75a3"
      },
      "outputs": [
        {
          "name": "stderr",
          "output_type": "stream",
          "text": [
            "/usr/local/lib/python3.10/dist-packages/huggingface_hub/file_download.py:1132: FutureWarning: `resume_download` is deprecated and will be removed in version 1.0.0. Downloads always resume when possible. If you want to force a new download, use `force_download=True`.\n",
            "  warnings.warn(\n"
          ]
        }
      ],
      "source": [
        "from lavague.core.retrievers import OpsmSplitRetriever\n",
        "from llama_index.embeddings.huggingface import HuggingFaceEmbedding\n",
        "from llama_index.embeddings.gemini import GeminiEmbedding\n",
        "from lavague.drivers.selenium import SeleniumDriver\n",
        "from llama_index.embeddings.openai import OpenAIEmbedding\n",
        "import pandas as pd\n",
        "\n",
        "driver = SeleniumDriver()\n",
        "\n",
        "local_embedding = HuggingFaceEmbedding(model_name=\"BAAI/bge-small-en-v1.5\")\n",
        "openai_embedding = OpenAIEmbedding(model=\"text-embedding-3-small\")\n",
        "gemini_embedding = gemini_embedding = GeminiEmbedding(model_name=\"models/text-embedding-004\")\n",
        "\n",
        "retrieved_data_opsm_local = retriever_evaluator.evaluate(\n",
        "    OpsmSplitRetriever(driver, embedding=local_embedding), raw_df, \"retrieved_data_opsm_local.csv\"\n",
        ")\n",
        "retrieved_data_opsm_openai = retriever_evaluator.evaluate(\n",
        "    OpsmSplitRetriever(driver, embedding=openai_embedding), raw_df, \"retrieved_data_opsm_openai.csv\"\n",
        ")\n",
        "retrieved_data_opsm_gemini = retriever_evaluator.evaluate(\n",
        "    OpsmSplitRetriever(driver, embedding=gemini_embedding), raw_df, \"retrieved_data_opsm_gemini.csv\"\n",
        ")"
      ]
    },
    {
      "cell_type": "markdown",
      "metadata": {
        "id": "GyS4kjKjBxYC"
      },
      "source": [
        "We can now visualize the results using the Evaluator's `compare` method which will show the precision, recall and time taken metrics for each embedding model."
      ]
    },
    {
      "cell_type": "code",
      "execution_count": 19,
      "metadata": {
        "colab": {
          "base_uri": "https://localhost:8080/",
          "height": 445
        },
        "id": "NiRil0uzdIqu",
        "outputId": "a04a86d9-83da-4fcf-c314-38f4891eed06"
      },
      "outputs": [
        {
          "data": {
            "image/png": "[encoded data removed]",
            "text/plain": [
              "<Figure size 1500x500 with 3 Axes>"
            ]
          },
          "metadata": {},
          "output_type": "display_data"
        }
      ],
      "source": [
        "plot = retriever_evaluator.compare(\n",
        "    {\n",
        "        \"openai\": retrieved_data_opsm_openai,\n",
        "        \"local\": retrieved_data_opsm_local,\n",
        "        \"gemini\": retrieved_data_opsm_gemini\n",
        "    }\n",
        ")\n",
        "plot.show()"
      ]
    },
    {
      "cell_type": "markdown",
      "metadata": {
        "id": "SkVtuoYXB_BD"
      },
      "source": [
        "We can see that performance is similar across all three embedding models, but that using a local embedding model is faster than using OpenAI or Gemini's models."
      ]
    },
    {
      "cell_type": "markdown",
      "metadata": {
        "id": "BeKE4dQnmV2T"
      },
      "source": [
        "# LLM Evaluation"
      ]
    },
    {
      "cell_type": "markdown",
      "metadata": {
        "id": "NsGvDOLpCKnq"
      },
      "source": [
        "Next, we will compare the performance of Codestral vs two closed-source models: GPT4-o and Gemini's `gemini-1.5-flash-latest`.\n",
        "\n",
        "For LLM evaluation, we will need to download the `TheWaveMeta_retreived.csv` file, which includes the retrieved nodes needed for the LLM to generate actions."
      ]
    },
    {
      "cell_type": "code",
      "execution_count": null,
      "metadata": {
        "colab": {
          "base_uri": "https://localhost:8080/",
          "height": 81,
          "referenced_widgets": [
            "9e5fde6d0e734f71b133957ec8533720",
            "12ce20a8aeeb4732acef57764757f3fd",
            "214a636beb1c4388aab42082e5f810ae",
            "963e548febc2482a84665ee00f36b8d1",
            "d2e2636ad53e4077a32966f4e7d1ef5d",
            "e9fcbe77dac4486d8f3218d269497541",
            "2b930becb7664e8a952f08bc3943ed50",
            "c4ef77621d114c6983cee59b4b51beeb",
            "04a0ef72990544e8a1f50d80cc6563d6",
            "36bed6d745f94a79b046f0b8efa0dbb1",
            "7dd3762be7614a94a506503442c8e247",
            "092786dc8c6d46e79057858fb93d984c",
            "03106982b82744afac449ebee1fc7e76",
            "a1b8bf23848342e98a7316d1f8600c56",
            "07eac56255504644b4f93dabbe404375",
            "cc7176c3f7554c8693b9c01f8e5289e3",
            "433abeb5540d404d850a5332c9086a80",
            "529012651b93490a9e4b28fc431d4358",
            "8ecbe969ea9c4e0da993af5265b06893",
            "4f44bb440d1c46948264c0be623f9040",
            "01cddc812c6d409497cdf3e57dfe9d28",
            "2dd964144b634753811691e5ca280a6f"
          ]
        },
        "id": "MsW7qoygZgOZ",
        "outputId": "459c6276-2193-4ddb-edc7-54a248b3fbe1"
      },
      "outputs": [],
      "source": [
        "from datasets import load_dataset\n",
        "import pandas as pd\n",
        "\n",
        "\n",
        "user = \"BigAction\"\n",
        "dataset_name = \"the-wave-250\"\n",
        "file_name = \"TheWaveMeta_retrieved.csv\"\n",
        "\n",
        "dataset = load_dataset(f\"{user}/{dataset_name}\", data_files=file_name, split=\"train\")\n",
        "\n",
        "n_rows = 50\n",
        "retrieved_df = pd.DataFrame(dataset)\n",
        "retrieved_df = retrieved_df.iloc[:n_rows]"
      ]
    },
    {
      "cell_type": "markdown",
      "metadata": {
        "id": "XdtHdjVmCngr"
      },
      "source": [
        "We can now intitialize our LLMEvaluator object."
      ]
    },
    {
      "cell_type": "code",
      "execution_count": 27,
      "metadata": {
        "id": "wemN7Ix9Zs2U"
      },
      "outputs": [],
      "source": [
        "from lavague.core.evaluator import LLMEvaluator\n",
        "\n",
        "llm_evaluator = LLMEvaluator()"
      ]
    },
    {
      "cell_type": "markdown",
      "metadata": {
        "id": "dsuLgiDdCsYX"
      },
      "source": [
        "We will now initialize three Navigation Engine;s, using `codestral`, `GPT4-o` and `gemini-1.5-flash-latest` respectively."
      ]
    },
    {
      "cell_type": "code",
      "execution_count": null,
      "metadata": {
        "id": "Vq0OOYVIvh6m"
      },
      "outputs": [],
      "source": [
        "from lavague.contexts.openai import OpenaiContext\n",
        "from lavague.contexts.gemini import GeminiContext\n",
        "from lavague.core.navigation import NavigationEngine\n",
        "from llama_index.llms.mistralai import MistralAI\n",
        "from lavague.drivers.selenium import SeleniumDriver\n",
        "\n",
        "driver = SeleniumDriver()\n",
        "\n",
        "MISTRAL_API_KEY = os.environ[\"MISTRAL_API_KEY\"]\n",
        "\n",
        "mistral_llm = MistralAI(model=\"codestral-latest\", api_key=MISTRAL_API_KEY)\n",
        "\n",
        "mistral_engine = NavigationEngine(llm=mistral_llm, driver=SeleniumDriver())\n",
        "openai_engine = NavigationEngine.from_context(OpenaiContext(), SeleniumDriver())\n",
        "gemini_engine = NavigationEngine.from_context(GeminiContext(), SeleniumDriver())"
      ]
    },
    {
      "cell_type": "markdown",
      "metadata": {
        "id": "fDZS8mVtDAJq"
      },
      "source": [
        "We can now use the `evaluate` method to benchmark these models."
      ]
    },
    {
      "cell_type": "code",
      "execution_count": null,
      "metadata": {
        "id": "ce-524IRxH69"
      },
      "outputs": [],
      "source": [
        "mistral_results = llm_evaluator.evaluate(mistral_engine, retrieved_df, \"mistral_results.csv\")\n",
        "openai_results = llm_evaluator.evaluate(openai_engine, retrieved_df, \"openai_results.csv\")\n",
        "gemini_results = llm_evaluator.evaluate(gemini_engine, retrieved_df, \"gemini_results.csv\")"
      ]
    },
    {
      "cell_type": "markdown",
      "metadata": {
        "id": "jhzkeAWvDGvG"
      },
      "source": [
        "Finally, we will use the compare method to compare their performance."
      ]
    },
    {
      "cell_type": "code",
      "execution_count": 28,
      "metadata": {
        "colab": {
          "base_uri": "https://localhost:8080/",
          "height": 445
        },
        "id": "HYbvvPcqc2qz",
        "outputId": "becb05c1-0327-4d91-f4c2-1c246d2150db"
      },
      "outputs": [
        {
          "data": {
            "image/png": "[encoded data removed]",
            "text/plain": [
              "<Figure size 1500x500 with 3 Axes>"
            ]
          },
          "metadata": {},
          "output_type": "display_data"
        }
      ],
      "source": [
        "plot = llm_evaluator.compare(\n",
        "    {\n",
        "        \"openai\": openai_results,\n",
        "        \"mistral\": mistral_results,\n",
        "        \"gemini\": gemini_results\n",
        "    }\n",
        ")\n",
        "plot.show()"
      ]
    },
    {
      "cell_type": "markdown",
      "metadata": {
        "id": "NS2gnTcQDZNy"
      },
      "source": [
        "While OpenAI is the best perfomer, Codestral's performance is very close behind its closed-source counterparts and shows itself to be a good option for local inference with LaVague."
      ]
    }
  ],
  "metadata": {
    "colab": {
      "provenance": []
    },
    "kernelspec": {
      "display_name": "Python 3",
      "name": "python3"
    },
    "language_info": {
      "name": "python"
    },
    "widgets": {
      "application/vnd.jupyter.widget-state+json": {
        "01cddc812c6d409497cdf3e57dfe9d28": {
          "model_module": "@jupyter-widgets/base",
          "model_module_version": "1.2.0",
          "model_name": "LayoutModel",
          "state": {
            "_model_module": "@jupyter-widgets/base",
            "_model_module_version": "1.2.0",
            "_model_name": "LayoutModel",
            "_view_count": null,
            "_view_module": "@jupyter-widgets/base",
            "_view_module_version": "1.2.0",
            "_view_name": "LayoutView",
            "align_content": null,
            "align_items": null,
            "align_self": null,
            "border": null,
            "bottom": null,
            "display": null,
            "flex": null,
            "flex_flow": null,
            "grid_area": null,
            "grid_auto_columns": null,
            "grid_auto_flow": null,
            "grid_auto_rows": null,
            "grid_column": null,
            "grid_gap": null,
            "grid_row": null,
            "grid_template_areas": null,
            "grid_template_columns": null,
            "grid_template_rows": null,
            "height": null,
            "justify_content": null,
            "justify_items": null,
            "left": null,
            "margin": null,
            "max_height": null,
            "max_width": null,
            "min_height": null,
            "min_width": null,
            "object_fit": null,
            "object_position": null,
            "order": null,
            "overflow": null,
            "overflow_x": null,
            "overflow_y": null,
            "padding": null,
            "right": null,
            "top": null,
            "visibility": null,
            "width": null
          }
        },
        "03106982b82744afac449ebee1fc7e76": {
          "model_module": "@jupyter-widgets/controls",
          "model_module_version": "1.5.0",
          "model_name": "HTMLModel",
          "state": {
            "_dom_classes": [],
            "_model_module": "@jupyter-widgets/controls",
            "_model_module_version": "1.5.0",
            "_model_name": "HTMLModel",
            "_view_count": null,
            "_view_module": "@jupyter-widgets/controls",
            "_view_module_version": "1.5.0",
            "_view_name": "HTMLView",
            "description": "",
            "description_tooltip": null,
            "layout": "IPY_MODEL_433abeb5540d404d850a5332c9086a80",
            "placeholder": "​",
            "style": "IPY_MODEL_529012651b93490a9e4b28fc431d4358",
            "value": "Generating train split: "
          }
        },
        "04a0ef72990544e8a1f50d80cc6563d6": {
          "model_module": "@jupyter-widgets/controls",
          "model_module_version": "1.5.0",
          "model_name": "ProgressStyleModel",
          "state": {
            "_model_module": "@jupyter-widgets/controls",
            "_model_module_version": "1.5.0",
            "_model_name": "ProgressStyleModel",
            "_view_count": null,
            "_view_module": "@jupyter-widgets/base",
            "_view_module_version": "1.2.0",
            "_view_name": "StyleView",
            "bar_color": null,
            "description_width": ""
          }
        },
        "07eac56255504644b4f93dabbe404375": {
          "model_module": "@jupyter-widgets/controls",
          "model_module_version": "1.5.0",
          "model_name": "HTMLModel",
          "state": {
            "_dom_classes": [],
            "_model_module": "@jupyter-widgets/controls",
            "_model_module_version": "1.5.0",
            "_model_name": "HTMLModel",
            "_view_count": null,
            "_view_module": "@jupyter-widgets/controls",
            "_view_module_version": "1.5.0",
            "_view_name": "HTMLView",
            "description": "",
            "description_tooltip": null,
            "layout": "IPY_MODEL_01cddc812c6d409497cdf3e57dfe9d28",
            "placeholder": "​",
            "style": "IPY_MODEL_2dd964144b634753811691e5ca280a6f",
            "value": " 250/0 [00:14&lt;00:00, 17.78 examples/s]"
          }
        },
        "092786dc8c6d46e79057858fb93d984c": {
          "model_module": "@jupyter-widgets/controls",
          "model_module_version": "1.5.0",
          "model_name": "HBoxModel",
          "state": {
            "_dom_classes": [],
            "_model_module": "@jupyter-widgets/controls",
            "_model_module_version": "1.5.0",
            "_model_name": "HBoxModel",
            "_view_count": null,
            "_view_module": "@jupyter-widgets/controls",
            "_view_module_version": "1.5.0",
            "_view_name": "HBoxView",
            "box_style": "",
            "children": [
              "IPY_MODEL_03106982b82744afac449ebee1fc7e76",
              "IPY_MODEL_a1b8bf23848342e98a7316d1f8600c56",
              "IPY_MODEL_07eac56255504644b4f93dabbe404375"
            ],
            "layout": "IPY_MODEL_cc7176c3f7554c8693b9c01f8e5289e3"
          }
        },
        "12ce20a8aeeb4732acef57764757f3fd": {
          "model_module": "@jupyter-widgets/controls",
          "model_module_version": "1.5.0",
          "model_name": "HTMLModel",
          "state": {
            "_dom_classes": [],
            "_model_module": "@jupyter-widgets/controls",
            "_model_module_version": "1.5.0",
            "_model_name": "HTMLModel",
            "_view_count": null,
            "_view_module": "@jupyter-widgets/controls",
            "_view_module_version": "1.5.0",
            "_view_name": "HTMLView",
            "description": "",
            "description_tooltip": null,
            "layout": "IPY_MODEL_e9fcbe77dac4486d8f3218d269497541",
            "placeholder": "​",
            "style": "IPY_MODEL_2b930becb7664e8a952f08bc3943ed50",
            "value": "Downloading data: 100%"
          }
        },
        "214a636beb1c4388aab42082e5f810ae": {
          "model_module": "@jupyter-widgets/controls",
          "model_module_version": "1.5.0",
          "model_name": "FloatProgressModel",
          "state": {
            "_dom_classes": [],
            "_model_module": "@jupyter-widgets/controls",
            "_model_module_version": "1.5.0",
            "_model_name": "FloatProgressModel",
            "_view_count": null,
            "_view_module": "@jupyter-widgets/controls",
            "_view_module_version": "1.5.0",
            "_view_name": "ProgressView",
            "bar_style": "success",
            "description": "",
            "description_tooltip": null,
            "layout": "IPY_MODEL_c4ef77621d114c6983cee59b4b51beeb",
            "max": 416864853,
            "min": 0,
            "orientation": "horizontal",
            "style": "IPY_MODEL_04a0ef72990544e8a1f50d80cc6563d6",
            "value": 416864853
          }
        },
        "2b930becb7664e8a952f08bc3943ed50": {
          "model_module": "@jupyter-widgets/controls",
          "model_module_version": "1.5.0",
          "model_name": "DescriptionStyleModel",
          "state": {
            "_model_module": "@jupyter-widgets/controls",
            "_model_module_version": "1.5.0",
            "_model_name": "DescriptionStyleModel",
            "_view_count": null,
            "_view_module": "@jupyter-widgets/base",
            "_view_module_version": "1.2.0",
            "_view_name": "StyleView",
            "description_width": ""
          }
        },
        "2dd964144b634753811691e5ca280a6f": {
          "model_module": "@jupyter-widgets/controls",
          "model_module_version": "1.5.0",
          "model_name": "DescriptionStyleModel",
          "state": {
            "_model_module": "@jupyter-widgets/controls",
            "_model_module_version": "1.5.0",
            "_model_name": "DescriptionStyleModel",
            "_view_count": null,
            "_view_module": "@jupyter-widgets/base",
            "_view_module_version": "1.2.0",
            "_view_name": "StyleView",
            "description_width": ""
          }
        },
        "36bed6d745f94a79b046f0b8efa0dbb1": {
          "model_module": "@jupyter-widgets/base",
          "model_module_version": "1.2.0",
          "model_name": "LayoutModel",
          "state": {
            "_model_module": "@jupyter-widgets/base",
            "_model_module_version": "1.2.0",
            "_model_name": "LayoutModel",
            "_view_count": null,
            "_view_module": "@jupyter-widgets/base",
            "_view_module_version": "1.2.0",
            "_view_name": "LayoutView",
            "align_content": null,
            "align_items": null,
            "align_self": null,
            "border": null,
            "bottom": null,
            "display": null,
            "flex": null,
            "flex_flow": null,
            "grid_area": null,
            "grid_auto_columns": null,
            "grid_auto_flow": null,
            "grid_auto_rows": null,
            "grid_column": null,
            "grid_gap": null,
            "grid_row": null,
            "grid_template_areas": null,
            "grid_template_columns": null,
            "grid_template_rows": null,
            "height": null,
            "justify_content": null,
            "justify_items": null,
            "left": null,
            "margin": null,
            "max_height": null,
            "max_width": null,
            "min_height": null,
            "min_width": null,
            "object_fit": null,
            "object_position": null,
            "order": null,
            "overflow": null,
            "overflow_x": null,
            "overflow_y": null,
            "padding": null,
            "right": null,
            "top": null,
            "visibility": null,
            "width": null
          }
        },
        "433abeb5540d404d850a5332c9086a80": {
          "model_module": "@jupyter-widgets/base",
          "model_module_version": "1.2.0",
          "model_name": "LayoutModel",
          "state": {
            "_model_module": "@jupyter-widgets/base",
            "_model_module_version": "1.2.0",
            "_model_name": "LayoutModel",
            "_view_count": null,
            "_view_module": "@jupyter-widgets/base",
            "_view_module_version": "1.2.0",
            "_view_name": "LayoutView",
            "align_content": null,
            "align_items": null,
            "align_self": null,
            "border": null,
            "bottom": null,
            "display": null,
            "flex": null,
            "flex_flow": null,
            "grid_area": null,
            "grid_auto_columns": null,
            "grid_auto_flow": null,
            "grid_auto_rows": null,
            "grid_column": null,
            "grid_gap": null,
            "grid_row": null,
            "grid_template_areas": null,
            "grid_template_columns": null,
            "grid_template_rows": null,
            "height": null,
            "justify_content": null,
            "justify_items": null,
            "left": null,
            "margin": null,
            "max_height": null,
            "max_width": null,
            "min_height": null,
            "min_width": null,
            "object_fit": null,
            "object_position": null,
            "order": null,
            "overflow": null,
            "overflow_x": null,
            "overflow_y": null,
            "padding": null,
            "right": null,
            "top": null,
            "visibility": null,
            "width": null
          }
        },
        "4f44bb440d1c46948264c0be623f9040": {
          "model_module": "@jupyter-widgets/controls",
          "model_module_version": "1.5.0",
          "model_name": "ProgressStyleModel",
          "state": {
            "_model_module": "@jupyter-widgets/controls",
            "_model_module_version": "1.5.0",
            "_model_name": "ProgressStyleModel",
            "_view_count": null,
            "_view_module": "@jupyter-widgets/base",
            "_view_module_version": "1.2.0",
            "_view_name": "StyleView",
            "bar_color": null,
            "description_width": ""
          }
        },
        "529012651b93490a9e4b28fc431d4358": {
          "model_module": "@jupyter-widgets/controls",
          "model_module_version": "1.5.0",
          "model_name": "DescriptionStyleModel",
          "state": {
            "_model_module": "@jupyter-widgets/controls",
            "_model_module_version": "1.5.0",
            "_model_name": "DescriptionStyleModel",
            "_view_count": null,
            "_view_module": "@jupyter-widgets/base",
            "_view_module_version": "1.2.0",
            "_view_name": "StyleView",
            "description_width": ""
          }
        },
        "7dd3762be7614a94a506503442c8e247": {
          "model_module": "@jupyter-widgets/controls",
          "model_module_version": "1.5.0",
          "model_name": "DescriptionStyleModel",
          "state": {
            "_model_module": "@jupyter-widgets/controls",
            "_model_module_version": "1.5.0",
            "_model_name": "DescriptionStyleModel",
            "_view_count": null,
            "_view_module": "@jupyter-widgets/base",
            "_view_module_version": "1.2.0",
            "_view_name": "StyleView",
            "description_width": ""
          }
        },
        "8ecbe969ea9c4e0da993af5265b06893": {
          "model_module": "@jupyter-widgets/base",
          "model_module_version": "1.2.0",
          "model_name": "LayoutModel",
          "state": {
            "_model_module": "@jupyter-widgets/base",
            "_model_module_version": "1.2.0",
            "_model_name": "LayoutModel",
            "_view_count": null,
            "_view_module": "@jupyter-widgets/base",
            "_view_module_version": "1.2.0",
            "_view_name": "LayoutView",
            "align_content": null,
            "align_items": null,
            "align_self": null,
            "border": null,
            "bottom": null,
            "display": null,
            "flex": null,
            "flex_flow": null,
            "grid_area": null,
            "grid_auto_columns": null,
            "grid_auto_flow": null,
            "grid_auto_rows": null,
            "grid_column": null,
            "grid_gap": null,
            "grid_row": null,
            "grid_template_areas": null,
            "grid_template_columns": null,
            "grid_template_rows": null,
            "height": null,
            "justify_content": null,
            "justify_items": null,
            "left": null,
            "margin": null,
            "max_height": null,
            "max_width": null,
            "min_height": null,
            "min_width": null,
            "object_fit": null,
            "object_position": null,
            "order": null,
            "overflow": null,
            "overflow_x": null,
            "overflow_y": null,
            "padding": null,
            "right": null,
            "top": null,
            "visibility": null,
            "width": "20px"
          }
        },
        "963e548febc2482a84665ee00f36b8d1": {
          "model_module": "@jupyter-widgets/controls",
          "model_module_version": "1.5.0",
          "model_name": "HTMLModel",
          "state": {
            "_dom_classes": [],
            "_model_module": "@jupyter-widgets/controls",
            "_model_module_version": "1.5.0",
            "_model_name": "HTMLModel",
            "_view_count": null,
            "_view_module": "@jupyter-widgets/controls",
            "_view_module_version": "1.5.0",
            "_view_name": "HTMLView",
            "description": "",
            "description_tooltip": null,
            "layout": "IPY_MODEL_36bed6d745f94a79b046f0b8efa0dbb1",
            "placeholder": "​",
            "style": "IPY_MODEL_7dd3762be7614a94a506503442c8e247",
            "value": " 417M/417M [00:02&lt;00:00, 139MB/s]"
          }
        },
        "9e5fde6d0e734f71b133957ec8533720": {
          "model_module": "@jupyter-widgets/controls",
          "model_module_version": "1.5.0",
          "model_name": "HBoxModel",
          "state": {
            "_dom_classes": [],
            "_model_module": "@jupyter-widgets/controls",
            "_model_module_version": "1.5.0",
            "_model_name": "HBoxModel",
            "_view_count": null,
            "_view_module": "@jupyter-widgets/controls",
            "_view_module_version": "1.5.0",
            "_view_name": "HBoxView",
            "box_style": "",
            "children": [
              "IPY_MODEL_12ce20a8aeeb4732acef57764757f3fd",
              "IPY_MODEL_214a636beb1c4388aab42082e5f810ae",
              "IPY_MODEL_963e548febc2482a84665ee00f36b8d1"
            ],
            "layout": "IPY_MODEL_d2e2636ad53e4077a32966f4e7d1ef5d"
          }
        },
        "a1b8bf23848342e98a7316d1f8600c56": {
          "model_module": "@jupyter-widgets/controls",
          "model_module_version": "1.5.0",
          "model_name": "FloatProgressModel",
          "state": {
            "_dom_classes": [],
            "_model_module": "@jupyter-widgets/controls",
            "_model_module_version": "1.5.0",
            "_model_name": "FloatProgressModel",
            "_view_count": null,
            "_view_module": "@jupyter-widgets/controls",
            "_view_module_version": "1.5.0",
            "_view_name": "ProgressView",
            "bar_style": "success",
            "description": "",
            "description_tooltip": null,
            "layout": "IPY_MODEL_8ecbe969ea9c4e0da993af5265b06893",
            "max": 1,
            "min": 0,
            "orientation": "horizontal",
            "style": "IPY_MODEL_4f44bb440d1c46948264c0be623f9040",
            "value": 1
          }
        },
        "c4ef77621d114c6983cee59b4b51beeb": {
          "model_module": "@jupyter-widgets/base",
          "model_module_version": "1.2.0",
          "model_name": "LayoutModel",
          "state": {
            "_model_module": "@jupyter-widgets/base",
            "_model_module_version": "1.2.0",
            "_model_name": "LayoutModel",
            "_view_count": null,
            "_view_module": "@jupyter-widgets/base",
            "_view_module_version": "1.2.0",
            "_view_name": "LayoutView",
            "align_content": null,
            "align_items": null,
            "align_self": null,
            "border": null,
            "bottom": null,
            "display": null,
            "flex": null,
            "flex_flow": null,
            "grid_area": null,
            "grid_auto_columns": null,
            "grid_auto_flow": null,
            "grid_auto_rows": null,
            "grid_column": null,
            "grid_gap": null,
            "grid_row": null,
            "grid_template_areas": null,
            "grid_template_columns": null,
            "grid_template_rows": null,
            "height": null,
            "justify_content": null,
            "justify_items": null,
            "left": null,
            "margin": null,
            "max_height": null,
            "max_width": null,
            "min_height": null,
            "min_width": null,
            "object_fit": null,
            "object_position": null,
            "order": null,
            "overflow": null,
            "overflow_x": null,
            "overflow_y": null,
            "padding": null,
            "right": null,
            "top": null,
            "visibility": null,
            "width": null
          }
        },
        "cc7176c3f7554c8693b9c01f8e5289e3": {
          "model_module": "@jupyter-widgets/base",
          "model_module_version": "1.2.0",
          "model_name": "LayoutModel",
          "state": {
            "_model_module": "@jupyter-widgets/base",
            "_model_module_version": "1.2.0",
            "_model_name": "LayoutModel",
            "_view_count": null,
            "_view_module": "@jupyter-widgets/base",
            "_view_module_version": "1.2.0",
            "_view_name": "LayoutView",
            "align_content": null,
            "align_items": null,
            "align_self": null,
            "border": null,
            "bottom": null,
            "display": null,
            "flex": null,
            "flex_flow": null,
            "grid_area": null,
            "grid_auto_columns": null,
            "grid_auto_flow": null,
            "grid_auto_rows": null,
            "grid_column": null,
            "grid_gap": null,
            "grid_row": null,
            "grid_template_areas": null,
            "grid_template_columns": null,
            "grid_template_rows": null,
            "height": null,
            "justify_content": null,
            "justify_items": null,
            "left": null,
            "margin": null,
            "max_height": null,
            "max_width": null,
            "min_height": null,
            "min_width": null,
            "object_fit": null,
            "object_position": null,
            "order": null,
            "overflow": null,
            "overflow_x": null,
            "overflow_y": null,
            "padding": null,
            "right": null,
            "top": null,
            "visibility": null,
            "width": null
          }
        },
        "d2e2636ad53e4077a32966f4e7d1ef5d": {
          "model_module": "@jupyter-widgets/base",
          "model_module_version": "1.2.0",
          "model_name": "LayoutModel",
          "state": {
            "_model_module": "@jupyter-widgets/base",
            "_model_module_version": "1.2.0",
            "_model_name": "LayoutModel",
            "_view_count": null,
            "_view_module": "@jupyter-widgets/base",
            "_view_module_version": "1.2.0",
            "_view_name": "LayoutView",
            "align_content": null,
            "align_items": null,
            "align_self": null,
            "border": null,
            "bottom": null,
            "display": null,
            "flex": null,
            "flex_flow": null,
            "grid_area": null,
            "grid_auto_columns": null,
            "grid_auto_flow": null,
            "grid_auto_rows": null,
            "grid_column": null,
            "grid_gap": null,
            "grid_row": null,
            "grid_template_areas": null,
            "grid_template_columns": null,
            "grid_template_rows": null,
            "height": null,
            "justify_content": null,
            "justify_items": null,
            "left": null,
            "margin": null,
            "max_height": null,
            "max_width": null,
            "min_height": null,
            "min_width": null,
            "object_fit": null,
            "object_position": null,
            "order": null,
            "overflow": null,
            "overflow_x": null,
            "overflow_y": null,
            "padding": null,
            "right": null,
            "top": null,
            "visibility": null,
            "width": null
          }
        },
        "e9fcbe77dac4486d8f3218d269497541": {
          "model_module": "@jupyter-widgets/base",
          "model_module_version": "1.2.0",
          "model_name": "LayoutModel",
          "state": {
            "_model_module": "@jupyter-widgets/base",
            "_model_module_version": "1.2.0",
            "_model_name": "LayoutModel",
            "_view_count": null,
            "_view_module": "@jupyter-widgets/base",
            "_view_module_version": "1.2.0",
            "_view_name": "LayoutView",
            "align_content": null,
            "align_items": null,
            "align_self": null,
            "border": null,
            "bottom": null,
            "display": null,
            "flex": null,
            "flex_flow": null,
            "grid_area": null,
            "grid_auto_columns": null,
            "grid_auto_flow": null,
            "grid_auto_rows": null,
            "grid_column": null,
            "grid_gap": null,
            "grid_row": null,
            "grid_template_areas": null,
            "grid_template_columns": null,
            "grid_template_rows": null,
            "height": null,
            "justify_content": null,
            "justify_items": null,
            "left": null,
            "margin": null,
            "max_height": null,
            "max_width": null,
            "min_height": null,
            "min_width": null,
            "object_fit": null,
            "object_position": null,
            "order": null,
            "overflow": null,
            "overflow_x": null,
            "overflow_y": null,
            "padding": null,
            "right": null,
            "top": null,
            "visibility": null,
            "width": null
          }
        }
      }
    }
  },
  "nbformat": 4,
  "nbformat_minor": 0
}
