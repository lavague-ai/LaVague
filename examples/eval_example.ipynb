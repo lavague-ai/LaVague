{
 "cells": [
  {
   "cell_type": "code",
   "execution_count": null,
   "metadata": {},
   "outputs": [],
   "source": [
    "from lavague.core.evaluator import RetrieverEvaluator\n",
    "\n",
    "retriever_evaluator = RetrieverEvaluator()"
   ]
  },
  {
   "cell_type": "code",
   "execution_count": null,
   "metadata": {},
   "outputs": [],
   "source": [
    "import pandas as pd\n",
    "import os\n",
    "\n",
    "os.environ[\"OPENAI_API_KEY\"] = None\n",
    "\n",
    "raw_dataset = pd.read_csv(\"TheWaveMetaSmall.csv\")"
   ]
  },
  {
   "cell_type": "code",
   "execution_count": null,
   "metadata": {},
   "outputs": [],
   "source": [
    "from lavague.core.retrievers import OpsmSplitRetriever, BM25HtmlRetriever\n",
    "from lavague.drivers.selenium import SeleniumDriver\n",
    "\n",
    "driver = SeleniumDriver()\n",
    "\n",
    "retrieved_data_opsm = retriever_evaluator.evaluate(\n",
    "    OpsmSplitRetriever(driver), raw_dataset, \"retrieved_data_opsm.csv\"\n",
    ")\n",
    "retrieved_data_bm25 = retriever_evaluator.evaluate(\n",
    "    BM25HtmlRetriever(), raw_dataset, \"retrieved_data_bm25.csv\"\n",
    ")"
   ]
  },
  {
   "cell_type": "code",
   "execution_count": null,
   "metadata": {},
   "outputs": [],
   "source": [
    "plot = retriever_evaluator.compare(\n",
    "    {\"opsm\": retrieved_data_opsm, \"bm25\": retrieved_data_bm25}\n",
    ")\n",
    "plot.show()"
   ]
  },
  {
   "cell_type": "code",
   "execution_count": null,
   "metadata": {},
   "outputs": [],
   "source": [
    "from lavague.core.evaluator import LLMEvaluator\n",
    "from lavague.contexts.openai import OpenaiContext\n",
    "from lavague.contexts.gemini import GeminiContext\n",
    "from lavague.core.navigation import NavigationEngine\n",
    "import os\n",
    "from lavague.drivers.selenium import SeleniumDriver\n",
    "\n",
    "os.environ[\"GOOGLE_API_KEY\"] = None\n",
    "llm_evaluator = LLMEvaluator()\n",
    "openai_engine = NavigationEngine.from_context(OpenaiContext(), SeleniumDriver())\n",
    "gemini_engine = NavigationEngine.from_context(GeminiContext(), SeleniumDriver())\n",
    "openai_results = llm_evaluator.evaluate(openai_engine, retrieved_data_opsm, \"openai_results.csv\")\n",
    "gemini_results = llm_evaluator.evaluate(gemini_engine, retrieved_data_opsm, \"gemini_results.csv\")"
   ]
  },
  {
   "cell_type": "code",
   "execution_count": null,
   "metadata": {},
   "outputs": [],
   "source": [
    "plot = llm_evaluator.compare(\n",
    "    {\n",
    "        \"openai\": openai_results,\n",
    "        \"gemini\": gemini_results,\n",
    "    }\n",
    ")\n",
    "plot.show()"
   ]
  }
 ],
 "metadata": {
  "kernelspec": {
   "display_name": "lavague-F71CZHNi-py3.10",
   "language": "python",
   "name": "python3"
  },
  "language_info": {
   "codemirror_mode": {
    "name": "ipython",
    "version": 3
   },
   "file_extension": ".py",
   "mimetype": "text/x-python",
   "name": "python",
   "nbconvert_exporter": "python",
   "pygments_lexer": "ipython3",
   "version": "3.10.12"
  }
 },
 "nbformat": 4,
 "nbformat_minor": 2
}
